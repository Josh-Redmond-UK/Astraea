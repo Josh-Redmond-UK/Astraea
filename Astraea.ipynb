{
 "cells": [
  {
   "cell_type": "code",
   "execution_count": 1,
   "id": "a9fb25ba",
   "metadata": {},
   "outputs": [
    {
     "name": "stderr",
     "output_type": "stream",
     "text": [
      "C:\\Users\\jr725\\AppData\\Local\\Temp\\ipykernel_8328\\2141203311.py:14: DeprecationWarning: Importing display from IPython.core.display is deprecated since IPython 7.14, please import from IPython display\n",
      "  from IPython.core.display import display, HTML\n"
     ]
    }
   ],
   "source": [
    "import geemap as ge\n",
    "import ee\n",
    "from API.src import utils\n",
    "import pandas as pd\n",
    "import ipywidgets as widgets\n",
    "import numpy as np\n",
    "import ipyleaflet\n",
    "import os\n",
    "from ipyleaflet import VideoOverlay, DrawControl\n",
    "from shapely.geometry import Point, MultiPoint\n",
    "import geojson\n",
    "from io import BytesIO\n",
    "from ipywidgets import Layout\n",
    "from IPython.core.display import display, HTML\n"
   ]
  },
  {
   "cell_type": "code",
   "execution_count": 2,
   "id": "5ca851ce",
   "metadata": {},
   "outputs": [],
   "source": [
    "utils.clean_up_wd()"
   ]
  },
  {
   "cell_type": "markdown",
   "id": "e7ebfc79",
   "metadata": {},
   "source": [
    "# Image Analysis Tool Alpha V0.1\n"
   ]
  },
  {
   "cell_type": "code",
   "execution_count": 3,
   "id": "6431f252",
   "metadata": {},
   "outputs": [],
   "source": [
    "#utils.clean_up_wd()"
   ]
  },
  {
   "cell_type": "code",
   "execution_count": 4,
   "id": "d8a045af",
   "metadata": {},
   "outputs": [],
   "source": [
    "global input_poly_layer"
   ]
  },
  {
   "cell_type": "code",
   "execution_count": 5,
   "id": "90f3a259",
   "metadata": {},
   "outputs": [],
   "source": [
    "try:\n",
    "    ee.Initialize()\n",
    "except:\n",
    "    widgets.interact(ee.Authenticate())\n",
    "    ee.Initialize()"
   ]
  },
  {
   "cell_type": "code",
   "execution_count": 6,
   "id": "d9a794e6",
   "metadata": {},
   "outputs": [],
   "source": [
    "Map = ge.Map(center=(19.432608, -99.133209), zoom=5, draw_ctrl=False, toolbar_ctrl=False, layer_ctrl=True)\n",
    "Map\n",
    "Map.add_basemap('HYBRID')\n",
    "draw_control = DrawControl()\n",
    "draw_control.polygon = {\n",
    "    \"shapeOptions\": {\n",
    "        \"fillColor\": \"#fca45d\",\n",
    "        \"color\": \"#fca45d\",\n",
    "        \"fillOpacity\": 0.1\n",
    "    },\n",
    "    \"drawError\": {\n",
    "        \"color\": \"#dd253b\",\n",
    "        \"message\": \"Oups!\"\n",
    "    },\n",
    "    \"allowIntersection\": False\n",
    "}\n",
    "\n",
    "draw_control.rectangle = {\n",
    "    \"shapeOptions\": {\n",
    "        \"fillColor\": \"#fca45d\",\n",
    "        \"color\": \"#fca45d\",\n",
    "        \"fillOpacity\": 0.1\n",
    "    }\n",
    "}\n",
    "\n",
    "Map.add_control(draw_control)\n"
   ]
  },
  {
   "cell_type": "code",
   "execution_count": 7,
   "id": "f06d9fcc",
   "metadata": {},
   "outputs": [],
   "source": [
    "def draw_callback(*args, **kwargs):\n",
    "    try:\n",
    "        Map.remove_layer(input_poly_layer)\n",
    "    except:\n",
    "        pass"
   ]
  },
  {
   "cell_type": "code",
   "execution_count": 8,
   "id": "f97fd3f9",
   "metadata": {
    "scrolled": true
   },
   "outputs": [],
   "source": [
    "draw_control.on_draw(draw_callback)"
   ]
  },
  {
   "cell_type": "code",
   "execution_count": 9,
   "id": "217575b0",
   "metadata": {
    "scrolled": false
   },
   "outputs": [],
   "source": [
    "roi = ee.Feature(draw_control.last_draw['geometry'])"
   ]
  },
  {
   "cell_type": "code",
   "execution_count": 10,
   "id": "46965e46",
   "metadata": {},
   "outputs": [],
   "source": [
    "#roi = ee.FeatureCollection(Map.draw_features)"
   ]
  },
  {
   "cell_type": "code",
   "execution_count": 11,
   "id": "623513aa",
   "metadata": {},
   "outputs": [],
   "source": [
    "input_poly_layer_roi = None"
   ]
  },
  {
   "cell_type": "code",
   "execution_count": 12,
   "id": "1ac2a978",
   "metadata": {},
   "outputs": [],
   "source": [
    "frame = pd.DataFrame(columns=[\"Lat\", \"Lon\"])"
   ]
  },
  {
   "cell_type": "code",
   "execution_count": 13,
   "id": "3b8a7ac3",
   "metadata": {},
   "outputs": [],
   "source": [
    "start_date_picker = widgets.DatePicker(\n",
    "    description='Start Date',\n",
    "    disabled=False\n",
    ")\n",
    "\n",
    "end_date_picker = widgets.DatePicker(\n",
    "    description='End Date',\n",
    "    disabled=False\n",
    ")\n",
    "date_controls = widgets.VBox([start_date_picker, end_date_picker])\n",
    "\n",
    "\n",
    "\n",
    "# Image Quality Controls\n",
    "cloud_cover_qual = widgets.IntSlider(\n",
    "    value=100,\n",
    "    min=0,\n",
    "    max=100,\n",
    "    step=1,\n",
    "    description='Maximum Cloud Covier: ',\n",
    "    disabled=False,\n",
    "    continuous_update=False,\n",
    "    orientation='horizontal',\n",
    "    readout=True,\n",
    "    readout_format='d',\n",
    "    layout=Layout(width='100%', height='128px')\n",
    ")\n",
    "\n",
    "\n",
    "analysis_option_dropdown = widgets.Dropdown(options=[\"True Colour\", \"NBR\", \"NDVI\", \"Grey Green Blue Index\"])\n",
    "aggregation_option_dropdown = widgets.Dropdown(options=[\"None\", 'Monthly', \"Annual\"], description=\"Aggregation Range\")\n",
    "aggregation_type_dropdown = widgets.Dropdown(options=[\"Mean\", \"Median\", \"Max\"], description=\"Aggregation Type\")\n",
    "\n",
    "aggregationSubset = widgets.VBox([aggregation_option_dropdown, aggregation_type_dropdown])\n",
    "\n",
    "imagery_accordion = widgets.Accordion([date_controls, cloud_cover_qual, analysis_option_dropdown, aggregationSubset])\n",
    "imagery_accordion.set_title(0, \"Date\")\n",
    "imagery_accordion.set_title(1, \"Image Settings\")\n",
    "imagery_accordion.set_title(2, \"Analysis Settings\")\n",
    "imagery_accordion.set_title(3, \"Aggregation Settings\")\n",
    "\n",
    "\n",
    "\n",
    "geometry_reset = widgets.Button(\n",
    "    description='Clear Geometry',\n",
    "    disabled=False,\n",
    "    button_style='danger', # 'success', 'info', 'warning', 'danger' or ''\n",
    "    tooltip='Clears map of all user input geometry',\n",
    "    icon='broom', # (FontAwesome names without the `fa-` prefix)\n",
    "    layout=Layout(width='95%')\n",
    ")\n",
    "\n",
    "\n",
    "\n",
    "geometry_file_upload = widgets.FileUpload(\n",
    "    accept='.csv',  # Accepted file extension e.g. '.txt', '.pdf', 'image/*', 'image/*,.pdf'\n",
    "    multiple=False,  # True to accept multiple files upload else False\n",
    "    layout=Layout(width='95%')\n",
    ")\n",
    "\n",
    "\n",
    "lat_text_input = widgets.FloatText(\n",
    "    value=0,\n",
    "    description='Lat:',\n",
    "    disabled=False\n",
    ")\n",
    "\n",
    "lon_text_input = widgets.FloatText(\n",
    "    value=0,\n",
    "    description='Lon:',\n",
    "    disabled=False\n",
    ")\n",
    "\n",
    "add_csv_to_map = widgets.Button(description=\"Add File to Map\", layout=Layout(width='95%'))\n",
    "geom_upload_container = widgets.VBox([geometry_file_upload, add_csv_to_map])\n",
    "\n",
    "latlon_frame = pd.DataFrame(columns=[\"Lat\", \"Lon\"])\n",
    "latlon_frame_display = widgets.Output(layout=Layout(width='95%'))\n",
    "\n",
    "add_latlon_to_map = widgets.Button(description=\"Add Polygon to Map\", layout=Layout(width='95%'))\n",
    "\n",
    "add_latlon_button = widgets.Button(description=\"Add Point\", layout=Layout(width='95%'))\n",
    "\n",
    "lat_lon_input = widgets.VBox([add_latlon_to_map, latlon_frame_display, lat_text_input, lon_text_input, add_latlon_button])\n",
    "\n",
    "\n",
    "\n",
    "annalyse_area_button = widgets.Button(description=\"Analyse\", button_style=\"success\", layout=Layout(width='99%'))\n",
    "\n",
    "\n",
    "analysis_output = widgets.Accordion()\n",
    "analysis_area = widgets.VBox([annalyse_area_button, analysis_output])\n",
    "\n",
    "geometry_input_accordion = widgets.Accordion(children=[geom_upload_container, lat_lon_input])\n",
    "\n",
    "geometry_input_accordion.set_title(0, \"CSV Upload\")\n",
    "geometry_input_accordion.set_title(1, \"Text Input\")\n",
    "\n",
    "geom_options_container = widgets.VBox([geometry_reset, geometry_input_accordion])\n",
    "\n",
    "\n",
    "names = [\"Imagery\", \"Geometry\"]\n",
    "tab = widgets.Tab(children = [imagery_accordion, geom_options_container])\n",
    "for idx, n in enumerate(names):\n",
    "    tab.set_title(idx, n)"
   ]
  },
  {
   "cell_type": "code",
   "execution_count": 14,
   "id": "08a419e7",
   "metadata": {},
   "outputs": [],
   "source": [
    "def add_latlon_text_input(b):\n",
    "    utils.add_new_latlon_row(latlon_frame, lat_text_input.value, lon_text_input.value)\n",
    "    latlon_frame_display.clear_output()\n",
    "    with latlon_frame_display:\n",
    "        display(latlon_frame)\n",
    "    \n"
   ]
  },
  {
   "cell_type": "code",
   "execution_count": 15,
   "id": "3adb3183",
   "metadata": {},
   "outputs": [],
   "source": [
    "def add_uploaded_file_to_map(b):\n",
    "\n",
    "    file_keys = list(geometry_file_upload.value.keys())\n",
    "    uploaded_file = pd.read_csv(BytesIO(geometry_file_upload.value[file_keys[0]]['content']))\n",
    "\n",
    "    # Get partial matching column names\n",
    "    try:\n",
    "        uploaded_file = uploaded_file[['Lat', 'Long']]\n",
    "    except:\n",
    "        uploaded_file = uploaded_file[['Lat', 'Lon']]\n",
    "        \n",
    "    global latlon_frame\n",
    "\n",
    "    latlon_frame = uploaded_file\n",
    "\n",
    "\n",
    "    if len(latlon_frame) > 0 :\n",
    "    #print(\"valid frame\")\n",
    "        points = []\n",
    "\n",
    "        for row in range(len(latlon_frame)):\n",
    "            lon = latlon_frame['Lon'].values[row]\n",
    "\n",
    "            lat = latlon_frame['Lat'].values[row]\n",
    "            p = Point(lon, lat)\n",
    "\n",
    "            points.append(p)\n",
    "\n",
    "\n",
    "        mpt = MultiPoint([point for point in points])\n",
    "        minimum_bounding_geom = mpt.convex_hull\n",
    "        lon, lat = minimum_bounding_geom.exterior.coords.xy   \n",
    "        \n",
    "        mbg_to_leaflet = []\n",
    "        mbg_to_geojson = []\n",
    "        for i in range(len(lon)):\n",
    "            mbg_to_leaflet.append((lat[i], lon[i]))\n",
    "            mbg_to_geojson.append((lon[i], lat[i]))\n",
    "\n",
    "        draw_control.clear()\n",
    "\n",
    "        global input_poly_layer \n",
    "        input_poly_layer = ipyleaflet.Polygon(locations=mbg_to_leaflet, fillColor=\"#6be5c3\",  color= \"#6be5c3\", fillOpacity=0.1)\n",
    "\n",
    "        zoom_target = minimum_bounding_geom.representative_point()\n",
    "        zoom_lon, zoom_lat = zoom_target.xy\n",
    "        zoom_target = [zoom_lat[0], zoom_lon[0]]\n",
    "        Map.center = zoom_target\n",
    "\n",
    "        Map.add_layer(input_poly_layer)\n",
    "        global input_poly_layer_roi\n",
    "        input_poly_layer_roi = ee.Geometry.Polygon(mbg_to_geojson)\n",
    "    else:\n",
    "        print(\"invalid frame\")"
   ]
  },
  {
   "cell_type": "code",
   "execution_count": null,
   "id": "206069a4",
   "metadata": {},
   "outputs": [],
   "source": []
  },
  {
   "cell_type": "code",
   "execution_count": 16,
   "id": "210c05c4",
   "metadata": {},
   "outputs": [],
   "source": [
    "def add_text_input_to_map(b):\n",
    "    if len(latlon_frame) > 0 :\n",
    "        #print(\"valid frame\")\n",
    "        points = []\n",
    "        \n",
    "        for row in range(len(latlon_frame)):\n",
    "            lon = latlon_frame['Lon'].values[row]\n",
    "            \n",
    "            lat = latlon_frame['Lat'].values[row]\n",
    "            p = Point(lon, lat)\n",
    "            \n",
    "            points.append(p)\n",
    "            \n",
    "            \n",
    "        mpt = MultiPoint([point for point in points])\n",
    "        minimum_bounding_geom = mpt.convex_hull\n",
    "        lon, lat = minimum_bounding_geom.exterior.coords.xy   \n",
    "\n",
    "\n",
    "        mbg_to_leaflet = []\n",
    "        mbg_to_geojson = []\n",
    "        for i in range(len(lon)):\n",
    "            mbg_to_leaflet.append((lat[i], lon[i]))\n",
    "            mbg_to_geojson.append((lon[i], lat[i]))\n",
    "\n",
    "        draw_control.clear()\n",
    "        \n",
    "        global input_poly_layer\n",
    "        \n",
    "        input_poly_layer = ipyleaflet.Polygon(locations=mbg_to_leaflet, fillColor=\"#6be5c3\",  color= \"#6be5c3\", fillOpacity=0.1)\n",
    "        \n",
    "        zoom_target = minimum_bounding_geom.representative_point()\n",
    "        zoom_lon, zoom_lat = zoom_target.xy\n",
    "        zoom_target = [zoom_lat[0], zoom_lon[0]]\n",
    "        Map.center = zoom_target\n",
    "        \n",
    "        Map.add_layer(input_poly_layer)\n",
    "        global input_poly_layer_roi\n",
    "        input_poly_layer_roi = ee.Geometry.Polygon(mbg_to_geojson)\n",
    "        \n",
    "        \n",
    "    else:\n",
    "        print(\"invalid frame\")\n"
   ]
  },
  {
   "cell_type": "code",
   "execution_count": null,
   "id": "9925a0f1",
   "metadata": {},
   "outputs": [],
   "source": []
  },
  {
   "cell_type": "code",
   "execution_count": 17,
   "id": "87831ac0",
   "metadata": {},
   "outputs": [],
   "source": [
    "def reset_geometry(b):\n",
    "    latlon_frame_display.clear_output()\n",
    "    global latlon_frame\n",
    "    \n",
    "    latlon_frame = latlon_frame[0:0]\n",
    "    draw_control.clear()\n",
    "    \n",
    "    try:\n",
    "        Map.remove_layer(input_poly_layer)\n",
    "    except:\n",
    "        pass"
   ]
  },
  {
   "cell_type": "code",
   "execution_count": 18,
   "id": "473d88fd",
   "metadata": {},
   "outputs": [],
   "source": [
    "def reverse_geocode_area(lon, lat):\n",
    "    locator = Nominatim(user_agent=\"jr725@exeter.ac.uk\")\n",
    "    coordinates = f\"{lat}, {lon}\"\n",
    "    location = locator.reverse(coordinates)\n",
    "    location_return = location.raw\n",
    "    \n",
    "    return location_return\n"
   ]
  },
  {
   "cell_type": "code",
   "execution_count": 19,
   "id": "cafe9306",
   "metadata": {},
   "outputs": [],
   "source": [
    "def analyse_button(b):\n",
    "    aggregation_mode = aggregation_option_dropdown.value\n",
    "    aggregation_type = aggregation_type_dropdown.value\n",
    "\n",
    "    image_mode = analysis_option_dropdown.value\n",
    "    try:\n",
    "        roi = ee.Feature(draw_control.last_draw['geometry']).bounds().geometry()\n",
    "        bounds_frame = pd.DataFrame(np.array(roi.bounds().getInfo()['coordinates'][0]), columns=[\"Lon\", \"Lat\"])\n",
    "\n",
    "    except:\n",
    "        roi = ee.Feature(input_poly_layer_roi).bounds().geometry()\n",
    "        bounds_frame = pd.DataFrame(np.array(roi.bounds().getInfo()['coordinates'][0]), columns=[\"Lon\", \"Lat\"])\n",
    "\n",
    "\n",
    "    min_lon = bounds_frame['Lon'].min()\n",
    "    max_lon = bounds_frame['Lon'].max()\n",
    "    min_lat = bounds_frame['Lat'].min()\n",
    "    max_lat = bounds_frame['Lat'].max()\n",
    "\n",
    "    video_bounds = ((min_lat, min_lon), (max_lat, max_lon))\n",
    "\n",
    "\n",
    "\n",
    "\n",
    "\n",
    "    lon, lat = roi.centroid(200).getInfo()['coordinates']\n",
    "    area_string = utils.reverse_geocode_area(lon=lon, lat=lat)\n",
    "\n",
    "\n",
    "    start = start_date_picker.value.strftime(\"%Y-%m-%d\")\n",
    "    end = end_date_picker.value.strftime(\"%Y-%m-%d\")\n",
    "\n",
    "    s2_vanilla = ee.ImageCollection(\"COPERNICUS/S2\").filterDate(start, end).filterMetadata(\n",
    "        'CLOUDY_PIXEL_PERCENTAGE', 'less_than',cloud_cover_qual.value)\n",
    "\n",
    "    s2_vanilla = utils.get_imgcol_roi(s2_vanilla, roi)\n",
    "\n",
    "    title = f\"{area_string}, {start}-{end}, {image_mode}\"\n",
    "\n",
    "\n",
    "\n",
    "    dates = utils.ymdList(s2_vanilla)\n",
    "\n",
    "\n",
    "\n",
    "\n",
    "\n",
    "    bands_order_dict = {\"Burnt Area Index\" : ['constant'],\n",
    "                        \"Grey Green Blue Index\":[\"red\", \"green\", \"blue\"],\n",
    "                        \"True Colour\" : ['B4',  'B3', 'B2'],\n",
    "                        \"NBR\" : ['constant',\"B3\",\"B2\"],\n",
    "                        \"NDVI\" : [\"B4\", 'constant', \"B2\"]}\n",
    "\n",
    "\n",
    "    aggregation_options_dict = {\"Monthly\": utils.aggregate_monthly(s2_vanilla, dates, aggregation_type),\n",
    "                       \"Annual\": utils.aggregate_anually(s2_vanilla, dates, aggregation_type),\n",
    "                       \"None\": (s2_vanilla, dates)}\n",
    "\n",
    "    GeneratedCollection, dates = aggregation_options_dict[aggregation_mode]\n",
    "\n",
    "\n",
    "\n",
    "    saved_gif = title+\".gif\"\n",
    "\n",
    "    saved_gif = os.path.join(os.path.dirname(os.getcwd()), saved_gif)\n",
    "\n",
    "    #print(utils.ymdList(image_col_dict[image_mode]))\n",
    "    print(\"Generating Gif\")\n",
    "\n",
    "\n",
    "    image_col_dict = {\"Burnt Area Index\": GeneratedCollection.map(utils.get_BAIS2),\n",
    "                        \"Grey Green Blue Index\": GeneratedCollection.map(utils.get_Green_Grey_Blue_Index),\n",
    "                      \"True Colour\": GeneratedCollection.map(lambda x: x.divide(10000)),\n",
    "                      \"NBR\": GeneratedCollection.map(utils.add_NBR).map(utils.reproject_to_calc_band),\n",
    "                      \"NDVI\": GeneratedCollection.map(utils.add_NDVI).map(utils.reproject_to_calc_band)}\n",
    "    GeneratedCollection = image_col_dict[image_mode]\n",
    "    selected_bands = bands_order_dict[image_mode]\n",
    "\n",
    "\n",
    "\n",
    "    framePaths = utils.download_gif(GeneratedCollection.select(selected_bands).map(lambda x: x.clip(roi)), title)\n",
    "\n",
    "    print(\"Gif generated\")\n",
    "    ge.add_text_to_gif(saved_gif, saved_gif, xy=('0%', '0%'), text_sequence=dates, font_color='white', duration=1000)\n",
    "    #ge.add_text_to_gif(saved_gif, saved_gif, xy=('0%', '10%'), text_sequence=title, font_color='white', duration=1000)\n",
    "\n",
    "    gif_overlay = ge.ImageOverlay(url=saved_gif, bounds=video_bounds, name=title)\n",
    "    Map.add_layer(gif_overlay)\n",
    "    analysis = utils.Area_Analysis(image_col_dict[image_mode], saved_gif, title, bands_order_dict[image_mode], roi, image_mode, \n",
    "                                   dates, framePaths)\n",
    "    \n",
    "    roi_analysis = analysis.display()\n",
    "    #analysis_download = \n",
    "    \n",
    "    button_output = widgets.Output()\n",
    "    #'with button_output:\n",
    "    #    display(HTML(analysis.export()))\n",
    "    \n",
    "    analysis_container = widgets.HBox([roi_analysis, button_output])\n",
    "    \n",
    "    analysis_output.children = [*analysis_output.children, analysis_container]\n",
    "    analysis_output.set_title(len(analysis_output.children)-1, title)\n",
    "    \n",
    "    \n",
    "    "
   ]
  },
  {
   "cell_type": "code",
   "execution_count": 20,
   "id": "4fa984d6",
   "metadata": {},
   "outputs": [],
   "source": [
    "add_latlon_to_map.on_click(add_text_input_to_map)"
   ]
  },
  {
   "cell_type": "code",
   "execution_count": 21,
   "id": "9e8c6fa1",
   "metadata": {},
   "outputs": [],
   "source": [
    "annalyse_area_button.on_click(analyse_button)"
   ]
  },
  {
   "cell_type": "code",
   "execution_count": 22,
   "id": "72de52c4",
   "metadata": {},
   "outputs": [],
   "source": [
    "add_latlon_button.on_click(add_latlon_text_input)"
   ]
  },
  {
   "cell_type": "code",
   "execution_count": 23,
   "id": "096a90e0",
   "metadata": {},
   "outputs": [],
   "source": [
    "geometry_reset.on_click(reset_geometry)"
   ]
  },
  {
   "cell_type": "code",
   "execution_count": 24,
   "id": "94317bb0",
   "metadata": {},
   "outputs": [],
   "source": [
    "add_csv_to_map.on_click(add_uploaded_file_to_map)"
   ]
  },
  {
   "cell_type": "code",
   "execution_count": 25,
   "id": "3dc0134b",
   "metadata": {
    "scrolled": false
   },
   "outputs": [
    {
     "data": {
      "application/vnd.jupyter.widget-view+json": {
       "model_id": "0f9227fb41a942429a3f4d651eb27f63",
       "version_major": 2,
       "version_minor": 0
      },
      "text/plain": [
       "AppLayout(children=(Button(button_style='success', description='Analyse', layout=Layout(grid_area='footer', wi…"
      ]
     },
     "execution_count": 25,
     "metadata": {},
     "output_type": "execute_result"
    },
    {
     "name": "stdout",
     "output_type": "stream",
     "text": [
      "Generating Gif\n",
      "200\n",
      "200\n",
      "Gif generated\n"
     ]
    },
    {
     "data": {
      "image/png": "[encoded data removed]",
      "text/plain": [
       "<Figure size 1650x2350 with 2 Axes>"
      ]
     },
     "metadata": {},
     "output_type": "display_data"
    }
   ],
   "source": [
    "widgets.AppLayout(header=None,\n",
    "          left_sidebar=None,\n",
    "          center=Map,\n",
    "          pane_widths=[1, 5, 3],\n",
    "          pane_heights=[1,8,1],\n",
    "          right_sidebar=tab,\n",
    "          footer=annalyse_area_button)\n",
    "\n"
   ]
  },
  {
   "cell_type": "code",
   "execution_count": 26,
   "id": "34177c3a",
   "metadata": {
    "scrolled": false
   },
   "outputs": [
    {
     "data": {
      "application/vnd.jupyter.widget-view+json": {
       "model_id": "61a30bcf7d4749288114b7ca1e7ba4a7",
       "version_major": 2,
       "version_minor": 0
      },
      "text/plain": [
       "Accordion()"
      ]
     },
     "execution_count": 26,
     "metadata": {},
     "output_type": "execute_result"
    }
   ],
   "source": [
    "analysis_output"
   ]
  },
  {
   "cell_type": "code",
   "execution_count": 27,
   "id": "f90e1cd6",
   "metadata": {},
   "outputs": [],
   "source": [
    "\n",
    "saved_gif = os.path.dirname(os.getcwd()) + '/../../../'+\"title\"+\".gif\"\n",
    "\n",
    "relative_gif_path = os.path.join(os.path.dirname(os.getcwd()), saved_gif)\n"
   ]
  },
  {
   "cell_type": "code",
   "execution_count": 28,
   "id": "2233c888",
   "metadata": {},
   "outputs": [],
   "source": [
    "\n",
    "    saved_gif = \"title\"+\".gif\"\n",
    "\n",
    "    saved_gif = os.path.join(os.path.dirname(os.getcwd()), saved_gif)"
   ]
  },
  {
   "cell_type": "code",
   "execution_count": 29,
   "id": "567bcd03",
   "metadata": {},
   "outputs": [
    {
     "data": {
      "text/plain": [
       "'C:\\\\Users\\\\jr725\\\\Astraea\\\\title.gif'"
      ]
     },
     "execution_count": 29,
     "metadata": {},
     "output_type": "execute_result"
    }
   ],
   "source": [
    "saved_gif"
   ]
  },
  {
   "cell_type": "code",
   "execution_count": null,
   "id": "a25dca4c",
   "metadata": {},
   "outputs": [],
   "source": []
  }
 ],
 "metadata": {
  "kernelspec": {
   "display_name": "Python 3 (ipykernel)",
   "language": "python",
   "name": "python3"
  },
  "language_info": {
   "codemirror_mode": {
    "name": "ipython",
    "version": 3
   },
   "file_extension": ".py",
   "mimetype": "text/x-python",
   "name": "python",
   "nbconvert_exporter": "python",
   "pygments_lexer": "ipython3",
   "version": "3.8.12"
  },
  "vscode": {
   "interpreter": {
    "hash": "f2b0e8cb375e9f89461d417f2144156ff15a64f79bdcf435248f95a9605b8d7e"
   }
  }
 },
 "nbformat": 4,
 "nbformat_minor": 5
}
