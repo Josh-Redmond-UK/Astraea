{
 "cells": [
  {
   "cell_type": "code",
   "execution_count": 1,
   "id": "f8b36b03",
   "metadata": {},
   "outputs": [],
   "source": [
    "from src.utils import *"
   ]
  },
  {
   "cell_type": "code",
   "execution_count": 2,
   "id": "252d1034",
   "metadata": {},
   "outputs": [],
   "source": [
    "ee.Initialize()"
   ]
  },
  {
   "cell_type": "code",
   "execution_count": 3,
   "id": "b2d0d197",
   "metadata": {},
   "outputs": [],
   "source": [
    "testGeom = ee.Geometry.Rectangle([-98.95, 19.34, -98.94, 19.35]);"
   ]
  },
  {
   "cell_type": "code",
   "execution_count": 4,
   "id": "615ea19e",
   "metadata": {},
   "outputs": [],
   "source": [
    "startDate = \"2019-01-01\"\n",
    "endDate = \"2019-02-01\"\n",
    "dateRange = (startDate,endDate)"
   ]
  },
  {
   "cell_type": "code",
   "execution_count": 5,
   "id": "948b33aa",
   "metadata": {},
   "outputs": [],
   "source": [
    "col = webGetCollection(testGeom, dateRange)"
   ]
  },
  {
   "cell_type": "code",
   "execution_count": 6,
   "id": "4f3485c5",
   "metadata": {},
   "outputs": [
    {
     "data": {
      "text/plain": [
       "ee.Geometry({\n",
       "  \"functionInvocationValue\": {\n",
       "    \"functionName\": \"Geometry.bounds\",\n",
       "    \"arguments\": {\n",
       "      \"geometry\": {\n",
       "        \"functionInvocationValue\": {\n",
       "          \"functionName\": \"GeometryConstructors.Polygon\",\n",
       "          \"arguments\": {\n",
       "            \"coordinates\": {\n",
       "              \"constantValue\": [\n",
       "                [\n",
       "                  [\n",
       "                    -0.526845,\n",
       "                    51.561918\n",
       "                  ],\n",
       "                  [\n",
       "                    -0.595183,\n",
       "                    51.53096\n",
       "                  ],\n",
       "                  [\n",
       "                    -0.571144,\n",
       "                    51.51323\n",
       "                  ],\n",
       "                  [\n",
       "                    -0.467437,\n",
       "                    51.509597\n",
       "                  ],\n",
       "                  [\n",
       "                    -0.405624,\n",
       "                    51.534804\n",
       "                  ],\n",
       "                  [\n",
       "                    -0.446832,\n",
       "                    51.561918\n",
       "                  ],\n",
       "                  [\n",
       "                    -0.464003,\n",
       "                    51.547189\n",
       "                  ],\n",
       "                  [\n",
       "                    -0.489071,\n",
       "                    51.563412\n",
       "                  ],\n",
       "                  [\n",
       "                    -0.526845,\n",
       "                    51.561918\n",
       "                  ]\n",
       "                ]\n",
       "              ]\n",
       "            },\n",
       "            \"evenOdd\": {\n",
       "              \"constantValue\": true\n",
       "            }\n",
       "          }\n",
       "        }\n",
       "      }\n",
       "    }\n",
       "  }\n",
       "})"
      ]
     },
     "execution_count": 6,
     "metadata": {},
     "output_type": "execute_result"
    }
   ],
   "source": [
    "# Test coords parsing\n",
    "testString = '-0.526845,51.561918,-0.595183,51.53096,-0.571144,51.51323,-0.467437,51.509597,-0.405624,51.534804,-0.446832,51.561918,-0.464003,51.547189,-0.489071,51.563412,-0.526845,51.561918'\n",
    "testROI = coordsToROI(testString)"
   ]
  },
  {
   "cell_type": "code",
   "execution_count": 7,
   "id": "e313ec80",
   "metadata": {},
   "outputs": [],
   "source": [
    "#test API query with string\n",
    "testApiString = 'coords=-0.115177,51.521916,-0.141263,51.504393,-0.102477,51.490283,-0.05288,51.504393,-0.037262,51.523732,-0.115177,51.521916&start-date=2023-04-15&end-date=2023-05-04&imagery-type=NDVI&aggregation-length=None&aggregation-type=Mean'\n",
    "\n"
   ]
  },
  {
   "cell_type": "code",
   "execution_count": null,
   "id": "6d9d9ab0",
   "metadata": {},
   "outputs": [],
   "source": []
  },
  {
   "cell_type": "code",
   "execution_count": 8,
   "id": "28b6aa39",
   "metadata": {},
   "outputs": [],
   "source": [
    "# Test 1, do we get a collection\n",
    "col, name, dates = webGetCollection(testGeom, dateRange)\n",
    "_t = col.getInfo()"
   ]
  },
  {
   "cell_type": "code",
   "execution_count": 9,
   "id": "0dc79284",
   "metadata": {},
   "outputs": [],
   "source": [
    "# Test 2, does aggregation return a valid collection\n",
    "col, bands, dates = webAggregateCollection(col, \"TrueColour\", \"None\", \"Mean\", dates)\n",
    "_t = col.getInfo()"
   ]
  },
  {
   "cell_type": "code",
   "execution_count": null,
   "id": "926aafbd",
   "metadata": {},
   "outputs": [
    {
     "name": "stdout",
     "output_type": "stream",
     "text": [
      "Mean None TrueColour passed\n",
      "Mean None NBR passed\n",
      "Mean None NDVI passed\n",
      "Mean Monthly TrueColour passed\n",
      "Mean Monthly NBR passed\n",
      "Mean Monthly NDVI passed\n",
      "Mean Annual TrueColour passed\n",
      "Mean Annual NBR passed\n",
      "Mean Annual NDVI passed\n",
      "Median None TrueColour passed\n",
      "Median None NBR passed\n",
      "Median None NDVI passed\n"
     ]
    }
   ],
   "source": [
    "#Test 3, does aggregation work for all parameter combinations, and can we download the images?\n",
    "aggTypes = ['Mean', 'Median', 'Max']\n",
    "aggLens = ['None', 'Monthly', 'Annual']\n",
    "imageTypes = ['TrueColour', 'NBR', 'NDVI']\n",
    "\n",
    "for at in aggTypes:\n",
    "    for al in aggLens:\n",
    "        for it in imageTypes:\n",
    "            try:\n",
    "                col, name, dates = webGetCollection(testGeom, dateRange)\n",
    "                col, bands, dates = webAggregateCollection(col, it, al, at, dates)\n",
    "                col.getInfo()\n",
    "                paths = downloadImages(col, bands, testGeom)\n",
    "                print(at, al, it, 'passed')\n",
    "            except:\n",
    "                print(at, al, it, 'failed')\n",
    "            "
   ]
  },
  {
   "cell_type": "code",
   "execution_count": null,
   "id": "4e238826",
   "metadata": {},
   "outputs": [],
   "source": []
  },
  {
   "cell_type": "code",
   "execution_count": null,
   "id": "d7fc3fec",
   "metadata": {},
   "outputs": [],
   "source": []
  }
 ],
 "metadata": {
  "kernelspec": {
   "display_name": "Python 3 (ipykernel)",
   "language": "python",
   "name": "python3"
  },
  "language_info": {
   "codemirror_mode": {
    "name": "ipython",
    "version": 3
   },
   "file_extension": ".py",
   "mimetype": "text/x-python",
   "name": "python",
   "nbconvert_exporter": "python",
   "pygments_lexer": "ipython3",
   "version": "3.10.11"
  }
 },
 "nbformat": 4,
 "nbformat_minor": 5
}
