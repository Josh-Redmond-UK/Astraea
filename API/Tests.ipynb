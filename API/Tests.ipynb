{
 "cells": [
  {
   "cell_type": "code",
   "execution_count": 4,
   "id": "f8b36b03",
   "metadata": {},
   "outputs": [],
   "source": [
    "from src.utils import *"
   ]
  },
  {
   "cell_type": "code",
   "execution_count": 5,
   "id": "e57750cd",
   "metadata": {},
   "outputs": [
    {
     "data": {
      "text/html": [
       "<p>To authorize access needed by Earth Engine, open the following\n",
       "        URL in a web browser and follow the instructions:</p>\n",
       "        <p><a href=https://code.earthengine.google.com/client-auth?scopes=https%3A//www.googleapis.com/auth/earthengine%20https%3A//www.googleapis.com/auth/devstorage.full_control&request_id=pKVe24ov_E8h5kdVeEc9pH7uC1UL0ffbiwcEtkIdv7Q&tc=3y9dnd2CGzRCnHEPVGgkMVojeArWgtjaJFtBcd_ZQDg&cc=GDabEYFOioaSY_EzU1Wf3ngs-zgjAbjLe_t1FXjFdHE>https://code.earthengine.google.com/client-auth?scopes=https%3A//www.googleapis.com/auth/earthengine%20https%3A//www.googleapis.com/auth/devstorage.full_control&request_id=pKVe24ov_E8h5kdVeEc9pH7uC1UL0ffbiwcEtkIdv7Q&tc=3y9dnd2CGzRCnHEPVGgkMVojeArWgtjaJFtBcd_ZQDg&cc=GDabEYFOioaSY_EzU1Wf3ngs-zgjAbjLe_t1FXjFdHE</a></p>\n",
       "        <p>The authorization workflow will generate a code, which you should paste in the box below.</p>\n",
       "        "
      ],
      "text/plain": [
       "<IPython.core.display.HTML object>"
      ]
     },
     "metadata": {},
     "output_type": "display_data"
    }
   ],
   "source": [
    "ee.Authenticate()"
   ]
  },
  {
   "cell_type": "code",
   "execution_count": null,
   "id": "252d1034",
   "metadata": {},
   "outputs": [],
   "source": [
    "ee.Initialize()"
   ]
  },
  {
   "cell_type": "code",
   "execution_count": null,
   "id": "b2d0d197",
   "metadata": {},
   "outputs": [],
   "source": [
    "testGeom = ee.Geometry.Rectangle([-98.95, 19.34, -98.94, 19.35]);"
   ]
  },
  {
   "cell_type": "code",
   "execution_count": null,
   "id": "615ea19e",
   "metadata": {},
   "outputs": [],
   "source": [
    "startDate = \"2019-01-01\"\n",
    "endDate = \"2019-02-01\"\n",
    "dateRange = (startDate,endDate)"
   ]
  },
  {
   "cell_type": "code",
   "execution_count": null,
   "id": "948b33aa",
   "metadata": {},
   "outputs": [],
   "source": [
    "col = webGetCollection(testGeom, dateRange)"
   ]
  },
  {
   "cell_type": "code",
   "execution_count": null,
   "id": "4f3485c5",
   "metadata": {},
   "outputs": [],
   "source": [
    "# Test coords parsing\n",
    "testString = '-0.526845,51.561918,-0.595183,51.53096,-0.571144,51.51323,-0.467437,51.509597,-0.405624,51.534804,-0.446832,51.561918,-0.464003,51.547189,-0.489071,51.563412,-0.526845,51.561918'\n",
    "testROI = coordsToROI(testString)"
   ]
  },
  {
   "cell_type": "code",
   "execution_count": null,
   "id": "cc71c3ea",
   "metadata": {},
   "outputs": [],
   "source": [
    "coords = testROI.getInfo()['coordinates']\n"
   ]
  },
  {
   "cell_type": "code",
   "execution_count": null,
   "id": "1968dc02",
   "metadata": {},
   "outputs": [],
   "source": [
    "\n",
    "coordFrame = pd.DataFrame(coords[0], columns=[\"Lat\", 'Lon'])\n",
    "\n",
    "coordFrame['Lat'].max()"
   ]
  },
  {
   "cell_type": "code",
   "execution_count": null,
   "id": "e313ec80",
   "metadata": {},
   "outputs": [],
   "source": [
    "#test API query with string\n",
    "testApiString = 'coords=-0.115177,51.521916,-0.141263,51.504393,-0.102477,51.490283,-0.05288,51.504393,-0.037262,51.523732,-0.115177,51.521916&start-date=2023-04-15&end-date=2023-05-04&imagery-type=NDVI&aggregation-length=None&aggregation-type=Mean'\n",
    "\n"
   ]
  },
  {
   "cell_type": "code",
   "execution_count": null,
   "id": "6d9d9ab0",
   "metadata": {},
   "outputs": [],
   "source": []
  },
  {
   "cell_type": "code",
   "execution_count": null,
   "id": "28b6aa39",
   "metadata": {},
   "outputs": [],
   "source": [
    "# Test 1, do we get a collection\n",
    "col, name, dates = webGetCollection(testGeom, dateRange)\n",
    "_t = col.getInfo()"
   ]
  },
  {
   "cell_type": "code",
   "execution_count": null,
   "id": "0dc79284",
   "metadata": {},
   "outputs": [],
   "source": [
    "# Test 2, does aggregation return a valid collection\n",
    "col, bands, dates = webAggregateCollection(col, \"TrueColour\", \"None\", \"Mean\", dates)\n",
    "_t = col.getInfo()"
   ]
  },
  {
   "cell_type": "code",
   "execution_count": null,
   "id": "926aafbd",
   "metadata": {},
   "outputs": [],
   "source": [
    "#Test 3, does aggregation work for all parameter combinations, and can we download the images?\n",
    "aggTypes = ['Mean', 'Median', 'Max']\n",
    "aggLens = ['None', 'Monthly', 'Annual']\n",
    "imageTypes = ['TrueColour', 'NBR', 'NDVI']\n",
    "\n",
    "for at in aggTypes:\n",
    "    for al in aggLens:\n",
    "        for it in imageTypes:\n",
    "            try:\n",
    "                col, name, dates = webGetCollection(testGeom, dateRange)\n",
    "                print(\"got collection\")\n",
    "                col, bands, dates = webAggregateCollection(col, it, al, at, dates)\n",
    "                print(\"aggregated collection\")\n",
    "                col.getInfo()\n",
    "                print(\"gotInfo\")\n",
    "                paths = downloadImages(col, bands, testGeom)\n",
    "                print(paths)\n",
    "                print(\"downloaded images\")\n",
    "                print(at, al, it, 'passed')\n",
    "            except Exception as error:\n",
    "                print(at, al, it, 'failed')\n",
    "                print(error)\n",
    "            "
   ]
  }
 ],
 "metadata": {
  "kernelspec": {
   "display_name": "Python 3 (ipykernel)",
   "language": "python",
   "name": "python3"
  },
  "language_info": {
   "codemirror_mode": {
    "name": "ipython",
    "version": 3
   },
   "file_extension": ".py",
   "mimetype": "text/x-python",
   "name": "python",
   "nbconvert_exporter": "python",
   "pygments_lexer": "ipython3",
   "version": "3.12.0"
  }
 },
 "nbformat": 4,
 "nbformat_minor": 5
}
